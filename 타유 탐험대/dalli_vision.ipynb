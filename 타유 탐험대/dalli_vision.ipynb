{
 "cells": [
  {
   "cell_type": "code",
   "execution_count": 3,
   "metadata": {},
   "outputs": [],
   "source": [
    "! pip install python-dotenv\n",
    "! pip install langchain_openai"
   ]
  },
  {
   "cell_type": "code",
   "execution_count": 26,
   "metadata": {},
   "outputs": [
    {
     "data": {
      "text/plain": [
       "True"
      ]
     },
     "execution_count": 26,
     "metadata": {},
     "output_type": "execute_result"
    }
   ],
   "source": [
    "from langchain_openai import OpenAIEmbeddings\n",
    "from langchain_community.document_loaders import PyPDFLoader\n",
    "from langchain_community.vectorstores import FAISS\n",
    "from langchain_text_splitters import RecursiveCharacterTextSplitter\n",
    "from langchain_chroma import Chroma\n",
    "from langchain.retrievers.multi_vector import MultiVectorRetriever\n",
    "from dotenv import load_dotenv\n",
    "\n",
    "load_dotenv()"
   ]
  },
  {
   "cell_type": "code",
   "execution_count": 8,
   "metadata": {},
   "outputs": [
    {
     "ename": "ImportError",
     "evalue": "cannot import name 'OpenAI' from 'openai' (c:\\Users\\Admin\\miniconda3\\envs\\ori0_env_310\\lib\\site-packages\\openai\\__init__.py)",
     "output_type": "error",
     "traceback": [
      "\u001b[1;31m---------------------------------------------------------------------------\u001b[0m",
      "\u001b[1;31mImportError\u001b[0m                               Traceback (most recent call last)",
      "Cell \u001b[1;32mIn[8], line 1\u001b[0m\n\u001b[1;32m----> 1\u001b[0m \u001b[38;5;28;01mfrom\u001b[39;00m \u001b[38;5;21;01mopenai\u001b[39;00m \u001b[38;5;28;01mimport\u001b[39;00m OpenAI\n\u001b[0;32m      3\u001b[0m client \u001b[38;5;241m=\u001b[39m OpenAI()\n\u001b[0;32m      5\u001b[0m \u001b[38;5;66;03m# 메시지 설정\u001b[39;00m\n",
      "\u001b[1;31mImportError\u001b[0m: cannot import name 'OpenAI' from 'openai' (c:\\Users\\Admin\\miniconda3\\envs\\ori0_env_310\\lib\\site-packages\\openai\\__init__.py)"
     ]
    }
   ],
   "source": [
    "from openai import OpenAI\n",
    "\n",
    "client = OpenAI()\n",
    "\n",
    "# 메시지 설정\n",
    "messages = [\n",
    "    {'role': 'system', 'content': '너는 대답 잘하는 챗봇이야.'},\n",
    "    {'role': 'user', 'content': '1부터 100까지 홀수만 출력 ㄱ'}\n",
    "]\n",
    "\n",
    "completion = client.chat.completions.create(\n",
    "    model='gpt-4o-2024-08-06',\n",
    "    messages=messages\n",
    ")\n",
    "\n",
    "print(completion.choices[0].message.content)"
   ]
  },
  {
   "cell_type": "code",
   "execution_count": null,
   "metadata": {},
   "outputs": [
    {
     "ename": "AttributeError",
     "evalue": "module 'openai' has no attribute 'OpenAI'",
     "output_type": "error",
     "traceback": [
      "\u001b[1;31m---------------------------------------------------------------------------\u001b[0m",
      "\u001b[1;31mAttributeError\u001b[0m                            Traceback (most recent call last)",
      "Cell \u001b[1;32mIn[1], line 5\u001b[0m\n\u001b[0;32m      2\u001b[0m \u001b[38;5;28;01mimport\u001b[39;00m \u001b[38;5;21;01mwebbrowser\u001b[39;00m\n\u001b[0;32m      3\u001b[0m \u001b[38;5;28;01mimport\u001b[39;00m \u001b[38;5;21;01mos\u001b[39;00m\n\u001b[1;32m----> 5\u001b[0m client \u001b[38;5;241m=\u001b[39m \u001b[43mopenai\u001b[49m\u001b[38;5;241;43m.\u001b[39;49m\u001b[43mOpenAI\u001b[49m(api_key\u001b[38;5;241m=\u001b[39m\u001b[38;5;124m'\u001b[39m\u001b[38;5;124msk-proj-I0gP2ihTb6V9U9d6ntGuT3BlbkFJDRstPWfxAbgXZiI6jn13\u001b[39m\u001b[38;5;124m'\u001b[39m)\n\u001b[0;32m      7\u001b[0m \u001b[38;5;66;03m# 1장 생성 시 40원\u001b[39;00m\n\u001b[0;32m      8\u001b[0m response \u001b[38;5;241m=\u001b[39m client\u001b[38;5;241m.\u001b[39mimages\u001b[38;5;241m.\u001b[39mgenerate(\n\u001b[0;32m      9\u001b[0m   model\u001b[38;5;241m=\u001b[39m\u001b[38;5;124m\"\u001b[39m\u001b[38;5;124mdall-e-3\u001b[39m\u001b[38;5;124m\"\u001b[39m,\n\u001b[0;32m     10\u001b[0m   prompt\u001b[38;5;241m=\u001b[39m\u001b[38;5;124m\"\u001b[39m\u001b[38;5;124ma cute cat with a hat on\u001b[39m\u001b[38;5;124m\"\u001b[39m,\n\u001b[1;32m   (...)\u001b[0m\n\u001b[0;32m     13\u001b[0m   n\u001b[38;5;241m=\u001b[39m\u001b[38;5;241m1\u001b[39m,\n\u001b[0;32m     14\u001b[0m )\n",
      "\u001b[1;31mAttributeError\u001b[0m: module 'openai' has no attribute 'OpenAI'"
     ]
    }
   ],
   "source": [
    "import openai \n",
    "import webbrowser\n",
    "import os\n",
    "from dotenv import load_dotenv\n",
    "load_dotenv()\n",
    "\n",
    "# 1장 생성 시 40원\n",
    "response = client.images.generate(\n",
    "  model=\"dall-e-3\",\n",
    "  prompt=\"a cute cat with a hat on\",\n",
    "  size=\"1024x1024\",\n",
    "  quality=\"standard\",\n",
    "  n=1,\n",
    ")\n",
    "\n",
    "# Show the result that has been pushed to an url\n",
    "webbrowser.open(response.data[0].url)"
   ]
  },
  {
   "cell_type": "code",
   "execution_count": 32,
   "metadata": {},
   "outputs": [
    {
     "data": {
      "text/plain": [
       "\"An adorable feline, domestic in nature, with a hat positioned on its head. The hat, coming with a noticeable brim and a high top, adjusts perfectly to the sizes of the cat's head. Fur of the cat shines healthily, with patterns typical for domestic cats, such as stripes or spots. The hat, contrasting the fur's color, adds a charming detail to the overall look of the cat.\""
      ]
     },
     "execution_count": 32,
     "metadata": {},
     "output_type": "execute_result"
    }
   ],
   "source": [
    "response.data[0].revised_prompt"
   ]
  },
  {
   "cell_type": "code",
   "execution_count": 1,
   "metadata": {},
   "outputs": [
    {
     "ename": "NameError",
     "evalue": "name 'response' is not defined",
     "output_type": "error",
     "traceback": [
      "\u001b[1;31m---------------------------------------------------------------------------\u001b[0m",
      "\u001b[1;31mNameError\u001b[0m                                 Traceback (most recent call last)",
      "Cell \u001b[1;32mIn[1], line 6\u001b[0m\n\u001b[0;32m      3\u001b[0m \u001b[38;5;28;01mfrom\u001b[39;00m \u001b[38;5;21;01mio\u001b[39;00m \u001b[38;5;28;01mimport\u001b[39;00m BytesIO\n\u001b[0;32m      5\u001b[0m \u001b[38;5;66;03m# 이미지 다운로드\u001b[39;00m\n\u001b[1;32m----> 6\u001b[0m response \u001b[38;5;241m=\u001b[39m requests\u001b[38;5;241m.\u001b[39mget(\u001b[43mresponse\u001b[49m\u001b[38;5;241m.\u001b[39mdata[\u001b[38;5;241m0\u001b[39m]\u001b[38;5;241m.\u001b[39murl)\n\u001b[0;32m      8\u001b[0m \u001b[38;5;66;03m# 응답이 성공적이었는지 확인\u001b[39;00m\n\u001b[0;32m      9\u001b[0m \u001b[38;5;28;01mif\u001b[39;00m response\u001b[38;5;241m.\u001b[39mstatus_code \u001b[38;5;241m==\u001b[39m \u001b[38;5;241m200\u001b[39m:\n\u001b[0;32m     10\u001b[0m     \u001b[38;5;66;03m# 이미지 데이터 로드\u001b[39;00m\n",
      "\u001b[1;31mNameError\u001b[0m: name 'response' is not defined"
     ]
    }
   ],
   "source": [
    "import requests\n",
    "from PIL import Image\n",
    "from io import BytesIO\n",
    "\n",
    "# 이미지 다운로드\n",
    "response = requests.get(response.data[0].url)\n",
    "\n",
    "# 응답이 성공적이었는지 확인\n",
    "if response.status_code == 200:\n",
    "    # 이미지 데이터 로드\n",
    "    image = Image.open(BytesIO(response.content))\n",
    "    \n",
    "    # 이미지 저장\n",
    "    image.save('downloaded_image.png')  # 원하는 파일명으로 저장\n",
    "    print(\"Image successfully downloaded and saved.\")\n",
    "else:\n",
    "    print(f\"Failed to retrieve image. Status code: {response.status_code}\")"
   ]
  },
  {
   "cell_type": "code",
   "execution_count": null,
   "metadata": {},
   "outputs": [
    {
     "name": "stdout",
     "output_type": "stream",
     "text": [
      "Generated image URL: https://oaidalleapiprodscus.blob.core.windows.net/private/org-ghM52CuUF421INQTxfVC0zdi/user-zzyHcD097HMnPOeBEB3gRgg7/img-mZ6kdhd4CISx8dKQP3LUUHhd.png?st=2024-08-20T21%3A29%3A52Z&se=2024-08-20T23%3A29%3A52Z&sp=r&sv=2024-08-04&sr=b&rscd=inline&rsct=image/png&skoid=d505667d-d6c1-4a0a-bac7-5c84a87759f8&sktid=a48cca56-e6da-484e-a814-9c849652bcb3&skt=2024-08-20T19%3A36%3A29Z&ske=2024-08-21T19%3A36%3A29Z&sks=b&skv=2024-08-04&sig=p7Ev/Uy7PwS4dPKL6LDaw23fIUMEXVZEyQZs2b%2Bdd%2BA%3D\n",
      "Image successfully downloaded and saved.\n"
     ]
    }
   ],
   "source": [
    "import openai\n",
    "import requests\n",
    "from PIL import Image\n",
    "from io import BytesIO\n",
    "from dotenv import load_dotenv\n",
    "\n",
    "load_dotenv()\n",
    "\n",
    "# 이미지 생성 요청\n",
    "prompt = '''\n",
    "draw long leg cat\n",
    "'''\n",
    "response = openai.Image.create(\n",
    "    model=\"dall-e-3\",\n",
    "    prompt=prompt,  # 이미지 생성에 사용될 텍스트 프롬프트\n",
    "    n=1,  # 생성할 이미지 수\n",
    "    size=\"1024x1024\"  # 이미지 크기\n",
    ")\n",
    "\n",
    "# 생성된 이미지 URL 가져오기\n",
    "image_url = response['data'][0]['url']\n",
    "print(f\"Generated image URL: {image_url}\")\n",
    "\n",
    "# 이미지 다운로드\n",
    "image_response = requests.get(image_url)\n",
    "\n",
    "# 응답이 성공적이었는지 확인\n",
    "if image_response.status_code == 200:\n",
    "    # 이미지 데이터 로드\n",
    "    image = Image.open(BytesIO(image_response.content))\n",
    "    \n",
    "    # 이미지 저장\n",
    "    image.save('./sample_image.jpg')  # 원하는 파일명으로 저장\n",
    "    print(\"Image successfully downloaded and saved.\")\n",
    "else:\n",
    "    print(f\"Failed to retrieve image. Status code: {image_response.status_code}\")\n"
   ]
  },
  {
   "cell_type": "markdown",
   "metadata": {},
   "source": []
  }
 ],
 "metadata": {
  "kernelspec": {
   "display_name": "chain_env",
   "language": "python",
   "name": "python3"
  },
  "language_info": {
   "codemirror_mode": {
    "name": "ipython",
    "version": 3
   },
   "file_extension": ".py",
   "mimetype": "text/x-python",
   "name": "python",
   "nbconvert_exporter": "python",
   "pygments_lexer": "ipython3",
   "version": "3.11.9"
  }
 },
 "nbformat": 4,
 "nbformat_minor": 2
}
