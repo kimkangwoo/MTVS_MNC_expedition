{
 "cells": [
  {
   "cell_type": "markdown",
   "metadata": {},
   "source": [
    "# 피라미드 이야기 만들기"
   ]
  },
  {
   "cell_type": "code",
   "execution_count": 2,
   "metadata": {},
   "outputs": [
    {
     "name": "stdout",
     "output_type": "stream",
     "text": [
      "Collecting langchain_ollama\n",
      "  Using cached langchain_ollama-0.1.1-py3-none-any.whl.metadata (1.8 kB)\n",
      "Requirement already satisfied: langchain-core<0.3.0,>=0.2.20 in c:\\users\\admin\\miniconda3\\envs\\ori0_env_310\\lib\\site-packages (from langchain_ollama) (0.2.30)\n",
      "Collecting ollama<1,>=0.3.0 (from langchain_ollama)\n",
      "  Using cached ollama-0.3.1-py3-none-any.whl.metadata (3.8 kB)\n",
      "Requirement already satisfied: PyYAML>=5.3 in c:\\users\\admin\\miniconda3\\envs\\ori0_env_310\\lib\\site-packages (from langchain-core<0.3.0,>=0.2.20->langchain_ollama) (6.0.2)\n",
      "Requirement already satisfied: jsonpatch<2.0,>=1.33 in c:\\users\\admin\\miniconda3\\envs\\ori0_env_310\\lib\\site-packages (from langchain-core<0.3.0,>=0.2.20->langchain_ollama) (1.33)\n",
      "Requirement already satisfied: langsmith<0.2.0,>=0.1.75 in c:\\users\\admin\\miniconda3\\envs\\ori0_env_310\\lib\\site-packages (from langchain-core<0.3.0,>=0.2.20->langchain_ollama) (0.1.99)\n",
      "Requirement already satisfied: packaging<25,>=23.2 in c:\\users\\admin\\miniconda3\\envs\\ori0_env_310\\lib\\site-packages (from langchain-core<0.3.0,>=0.2.20->langchain_ollama) (24.1)\n",
      "Requirement already satisfied: pydantic<3,>=1 in c:\\users\\admin\\miniconda3\\envs\\ori0_env_310\\lib\\site-packages (from langchain-core<0.3.0,>=0.2.20->langchain_ollama) (2.8.2)\n",
      "Requirement already satisfied: tenacity!=8.4.0,<9.0.0,>=8.1.0 in c:\\users\\admin\\miniconda3\\envs\\ori0_env_310\\lib\\site-packages (from langchain-core<0.3.0,>=0.2.20->langchain_ollama) (8.5.0)\n",
      "Requirement already satisfied: typing-extensions>=4.7 in c:\\users\\admin\\miniconda3\\envs\\ori0_env_310\\lib\\site-packages (from langchain-core<0.3.0,>=0.2.20->langchain_ollama) (4.12.2)\n",
      "Collecting httpx<0.28.0,>=0.27.0 (from ollama<1,>=0.3.0->langchain_ollama)\n",
      "  Using cached httpx-0.27.0-py3-none-any.whl.metadata (7.2 kB)\n",
      "Requirement already satisfied: anyio in c:\\users\\admin\\miniconda3\\envs\\ori0_env_310\\lib\\site-packages (from httpx<0.28.0,>=0.27.0->ollama<1,>=0.3.0->langchain_ollama) (4.4.0)\n",
      "Requirement already satisfied: certifi in c:\\users\\admin\\miniconda3\\envs\\ori0_env_310\\lib\\site-packages (from httpx<0.28.0,>=0.27.0->ollama<1,>=0.3.0->langchain_ollama) (2024.7.4)\n",
      "Collecting httpcore==1.* (from httpx<0.28.0,>=0.27.0->ollama<1,>=0.3.0->langchain_ollama)\n",
      "  Using cached httpcore-1.0.5-py3-none-any.whl.metadata (20 kB)\n",
      "Requirement already satisfied: idna in c:\\users\\admin\\miniconda3\\envs\\ori0_env_310\\lib\\site-packages (from httpx<0.28.0,>=0.27.0->ollama<1,>=0.3.0->langchain_ollama) (2.10)\n",
      "Requirement already satisfied: sniffio in c:\\users\\admin\\miniconda3\\envs\\ori0_env_310\\lib\\site-packages (from httpx<0.28.0,>=0.27.0->ollama<1,>=0.3.0->langchain_ollama) (1.3.1)\n",
      "Collecting h11<0.15,>=0.13 (from httpcore==1.*->httpx<0.28.0,>=0.27.0->ollama<1,>=0.3.0->langchain_ollama)\n",
      "  Using cached h11-0.14.0-py3-none-any.whl.metadata (8.2 kB)\n",
      "Requirement already satisfied: jsonpointer>=1.9 in c:\\users\\admin\\miniconda3\\envs\\ori0_env_310\\lib\\site-packages (from jsonpatch<2.0,>=1.33->langchain-core<0.3.0,>=0.2.20->langchain_ollama) (3.0.0)\n",
      "Requirement already satisfied: orjson<4.0.0,>=3.9.14 in c:\\users\\admin\\miniconda3\\envs\\ori0_env_310\\lib\\site-packages (from langsmith<0.2.0,>=0.1.75->langchain-core<0.3.0,>=0.2.20->langchain_ollama) (3.10.7)\n",
      "Requirement already satisfied: requests<3,>=2 in c:\\users\\admin\\miniconda3\\envs\\ori0_env_310\\lib\\site-packages (from langsmith<0.2.0,>=0.1.75->langchain-core<0.3.0,>=0.2.20->langchain_ollama) (2.32.3)\n",
      "Requirement already satisfied: annotated-types>=0.4.0 in c:\\users\\admin\\miniconda3\\envs\\ori0_env_310\\lib\\site-packages (from pydantic<3,>=1->langchain-core<0.3.0,>=0.2.20->langchain_ollama) (0.7.0)\n",
      "Requirement already satisfied: pydantic-core==2.20.1 in c:\\users\\admin\\miniconda3\\envs\\ori0_env_310\\lib\\site-packages (from pydantic<3,>=1->langchain-core<0.3.0,>=0.2.20->langchain_ollama) (2.20.1)\n",
      "Requirement already satisfied: charset-normalizer<4,>=2 in c:\\users\\admin\\miniconda3\\envs\\ori0_env_310\\lib\\site-packages (from requests<3,>=2->langsmith<0.2.0,>=0.1.75->langchain-core<0.3.0,>=0.2.20->langchain_ollama) (3.3.2)\n",
      "Requirement already satisfied: urllib3<3,>=1.21.1 in c:\\users\\admin\\miniconda3\\envs\\ori0_env_310\\lib\\site-packages (from requests<3,>=2->langsmith<0.2.0,>=0.1.75->langchain-core<0.3.0,>=0.2.20->langchain_ollama) (2.2.2)\n",
      "Requirement already satisfied: exceptiongroup>=1.0.2 in c:\\users\\admin\\miniconda3\\envs\\ori0_env_310\\lib\\site-packages (from anyio->httpx<0.28.0,>=0.27.0->ollama<1,>=0.3.0->langchain_ollama) (1.2.2)\n",
      "Using cached langchain_ollama-0.1.1-py3-none-any.whl (12 kB)\n",
      "Using cached ollama-0.3.1-py3-none-any.whl (10 kB)\n",
      "Using cached httpx-0.27.0-py3-none-any.whl (75 kB)\n",
      "Using cached httpcore-1.0.5-py3-none-any.whl (77 kB)\n",
      "Using cached h11-0.14.0-py3-none-any.whl (58 kB)\n",
      "Installing collected packages: h11, httpcore, httpx, ollama, langchain_ollama\n",
      "  Attempting uninstall: h11\n",
      "    Found existing installation: h11 0.9.0\n",
      "    Uninstalling h11-0.9.0:\n",
      "      Successfully uninstalled h11-0.9.0\n",
      "  Attempting uninstall: httpcore\n",
      "    Found existing installation: httpcore 0.9.1\n",
      "    Uninstalling httpcore-0.9.1:\n",
      "      Successfully uninstalled httpcore-0.9.1\n",
      "  Attempting uninstall: httpx\n",
      "    Found existing installation: httpx 0.13.3\n",
      "    Uninstalling httpx-0.13.3:\n",
      "      Successfully uninstalled httpx-0.13.3\n",
      "Successfully installed h11-0.14.0 httpcore-1.0.5 httpx-0.27.0 langchain_ollama-0.1.1 ollama-0.3.1\n"
     ]
    },
    {
     "name": "stderr",
     "output_type": "stream",
     "text": [
      "ERROR: pip's dependency resolver does not currently take into account all the packages that are installed. This behaviour is the source of the following dependency conflicts.\n",
      "googletrans 4.0.0rc1 requires httpx==0.13.3, but you have httpx 0.27.0 which is incompatible.\n",
      "unstructured-client 0.25.5 requires idna>=3.4, but you have idna 2.10 which is incompatible.\n"
     ]
    }
   ],
   "source": [
    "! pip install  langchain_ollama\n",
    "! pip install python-magic"
   ]
  },
  {
   "cell_type": "code",
   "execution_count": 2,
   "metadata": {},
   "outputs": [],
   "source": [
    "from langchain_community.document_loaders import TextLoader, DirectoryLoader, PyPDFLoader\n",
    "from langchain_chroma import Chroma\n",
    "from langchain.retrievers.multi_vector import MultiVectorRetriever\n",
    "from langchain_text_splitters import RecursiveCharacterTextSplitter\n",
    "from langchain_community.vectorstores import FAISS\n",
    "from langchain.prompts import ChatMessagePromptTemplate, ChatPromptTemplate, SystemMessagePromptTemplate, HumanMessagePromptTemplate\n",
    "from langchain_huggingface import HuggingFaceEmbeddings\n",
    "from langchain_core.output_parsers import StrOutputParser\n",
    "from langchain.chat_models import ChatOllama\n"
   ]
  },
  {
   "cell_type": "code",
   "execution_count": 19,
   "metadata": {},
   "outputs": [
    {
     "data": {
      "text/plain": [
       "'피라미드 입구에 도착했다. 내 손전등을 들고 발등을 찍는 소음만이 있었고, 조명이 밝혀지자 피라미드의 내부가 모습을 드러냈다.\\n\\n투탕카맨 유물과 클레오파트라 유물을 찾은 후에 쿠푸 유물도 발견하게 되었다. 투탕카맨의 마스크를 든 나의 손이 빛났다.\\n\\n갈림길에 도달했고, 길들고는 투탕카맨 관이 위치한 것을 알게 되었다. 클레오파트라와 쿠푸의 길을 건너 그곳으로 향한다.\\n\\n마침내 관을 발견하고서 그 안의 비밀을 들여보니... 그리고는 나도 모르게 관뚜껑을 닫았고 탈출을 시도했지만...\\n\\n바로 통과가 되지 못했고, 다시 피라미드 안에 갇히는 끔찍한 상황이 찾아왔다.'"
      ]
     },
     "execution_count": 19,
     "metadata": {},
     "output_type": "execute_result"
    }
   ],
   "source": [
    "# system message \n",
    "system_message = \"\"\"\n",
    "You're an archaeologist studying pyramids\n",
    "You're exploring the pyramids\n",
    "i don't need any extra sound effects\n",
    "Tell me the story in five lines\n",
    "Monologues are excluded.\n",
    "\"\"\"\n",
    "system_prompt = SystemMessagePromptTemplate.from_template(system_message)\n",
    "\n",
    "# human message\n",
    "human_message = \"\"\"\n",
    "처음 입구에서 손전등과 횃불 중 에서 {text1}을 주워서 사용한다.\n",
    "다음으로 피라미드 내에서 투탕카맨 유물, 클레오파트라 유물, 쿠푸 유물 유물즁 {text2}을 들고단다.\n",
    "다음으로 피라미내 내에서 투탕카맨 길, 클레오파트라 길, 쿠푸 길 중에서 {text3}이 있는 갈림길을 선택해서 들어가\n",
    "마지막으로 관을 발견해서 발견한 관뚜껑을 {text4} \n",
    "탈출을 시도하는데 {finish}결과를 맞이하는 이야기 만들어줘\n",
    "\"\"\"\n",
    "human_prompt = HumanMessagePromptTemplate.from_template(human_message)\n",
    "\n",
    "# 최종 프롬프트 구성\n",
    "chat_prompt = ChatPromptTemplate.from_messages(\n",
    "    [system_prompt, # 지정한 역할\n",
    "     human_prompt]) # 질문\n",
    "\n",
    "# 모델 설정\n",
    "model = ChatOllama(model='llama3.1:latest')\n",
    "\n",
    "# 쓸데없는 정보가 아닌 글자만 가져온다.\n",
    "outputparser = StrOutputParser()\n",
    "\n",
    "# 체인 설정\n",
    "chain = chat_prompt | model | outputparser\n",
    "\n",
    "result = chain.stream({\n",
    "    'text1':'손전등',\n",
    "    'text2':'투탕카맨의 마스크',\n",
    "    'text3':'투탕카맨 관',\n",
    "    'text4':'닫고', 'finish':'안좋은'\n",
    "    })\n",
    "\n",
    "# for chunk in result:\n",
    "#     print(chunk, end=\"\", flush=True)\n",
    "\"\".join([i for i in result])"
   ]
  }
 ],
 "metadata": {
  "kernelspec": {
   "display_name": "ori0_env_310",
   "language": "python",
   "name": "python3"
  },
  "language_info": {
   "codemirror_mode": {
    "name": "ipython",
    "version": 3
   },
   "file_extension": ".py",
   "mimetype": "text/x-python",
   "name": "python",
   "nbconvert_exporter": "python",
   "pygments_lexer": "ipython3",
   "version": "3.10.14"
  }
 },
 "nbformat": 4,
 "nbformat_minor": 2
}
